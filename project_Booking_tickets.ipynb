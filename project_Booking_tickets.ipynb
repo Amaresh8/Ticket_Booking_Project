{
 "cells": [
  {
   "cell_type": "code",
   "execution_count": 7,
   "id": "e72760a7-4b5b-4050-862d-e28262ca9f98",
   "metadata": {},
   "outputs": [
    {
     "name": "stdin",
     "output_type": "stream",
     "text": [
      "PLEASE SELECT THESE OPTIONS 1)Review,2)Book:  1\n"
     ]
    },
    {
     "name": "stdout",
     "output_type": "stream",
     "text": [
      "DHAMAKA Review: TRENDING MASS MOVIE\n",
      "AVATHAR Review: MASTERPIECE\n",
      "LOVETODAY Review: BLACKBUSTER\n"
     ]
    },
    {
     "name": "stdin",
     "output_type": "stream",
     "text": [
      "IF U WANT TICKETS,TYPE B, ELSE C:  B\n",
      "Select Movie 1.Dhamaka , 2.Avathar and 3.LoveToday : 2\n"
     ]
    },
    {
     "name": "stdout",
     "output_type": "stream",
     "text": [
      "Available Tickets: 120\n"
     ]
    },
    {
     "name": "stdin",
     "output_type": "stream",
     "text": [
      "Enter No Of tickets :) : 45\n"
     ]
    },
    {
     "name": "stdout",
     "output_type": "stream",
     "text": [
      "Avathar(Cinemax) Ticket Price is: 520\n",
      "Discount Amount is:5400\n",
      "Total Amount is: 18000\n"
     ]
    },
    {
     "name": "stdin",
     "output_type": "stream",
     "text": [
      "Pay Amt:  18000\n"
     ]
    },
    {
     "name": "stdout",
     "output_type": "stream",
     "text": [
      "Tickets Confirmed\n"
     ]
    }
   ],
   "source": [
    "#This is Singleton class \n",
    "\n",
    "def Single(a):\n",
    "    d={}\n",
    "    def Inner():\n",
    "        if a not in d:\n",
    "            d[a]=a()\n",
    "        return d[a]\n",
    "    return Inner\n",
    "\n",
    "#This class Contains the booking method, this method is used to all the movies \n",
    "\n",
    "class Movie():\n",
    "    def Bookings(self):\n",
    "        if self.Tickets==0:\n",
    "            print(f'Dear Guys {self.movie} Hall is Full')\n",
    "        else:\n",
    "            print(f'Available Tickets: {self.Tickets}')\n",
    "            n=int(input(\"Enter No Of tickets :) :\"))\n",
    "            if self.Tickets>=n:\n",
    "                print(f'{self.movie} Ticket Price is: {self.Price}')\n",
    "                if n>=2:\n",
    "                    m=(self.Price*n)-(self.Dis*n)\n",
    "                    print(f'Discount Amount is:{self.Dis*n}')\n",
    "                    print(f'Total Amount is: {m}')\n",
    "                    Amt=int(input(\"Pay Amt: \"))\n",
    "                    if Amt>m:\n",
    "                        self.Tickets-=n\n",
    "                        print(\"Thanks Tickets Confirmed\")\n",
    "                        print(f\"Take Your Remaining Balance {Amt-m}\")\n",
    "                        \n",
    "                    elif Amt==m:\n",
    "                        self.Tickets-=n\n",
    "                        print(\"Tickets Confirmed\")\n",
    "                    \n",
    "                    else:\n",
    "                        print(\"Dear Customer please pay total amount, Tickets are Not Confirmed\")\n",
    "                else:\n",
    "                    print(f'Total Amount is: {self.Price*n}')\n",
    "                    Amt=int(input(\"Pay Amt: \"))\n",
    "                    if Amt==self.Price*n:\n",
    "                        self.Tickets-=n\n",
    "                        print(\"Tickets Confirmed\")\n",
    "                    else:\n",
    "                        print(\"Dear Customer please pay total amount, Tickets are Not Confirmed\")\n",
    "            else:\n",
    "                if self.Tickets<=n:\n",
    "                    print(f\"Dear Customer Available Tickets are {self.Tickets}\")\n",
    "                    print(f\"You selected More than Tickets Please select Within {self.Tickets}\")\n",
    "                    \n",
    "#These are all movies Decorated with Singleton class\n",
    "\n",
    "@Single\n",
    "class Dhamaka(Movie):\n",
    "    def __init__(self):\n",
    "        self.movie=\"Dhamaka(PVR)\"\n",
    "        self.Tickets=300\n",
    "        self.Price=150\n",
    "        self.Dis=25\n",
    "        self.Review=\"TRENDING MASS MOVIE\"\n",
    "    def Rev(self):\n",
    "        print(f\"DHAMAKA Review: {self.Review}\")\n",
    "@Single\n",
    "class Avathar(Movie):\n",
    "    def __init__(self):\n",
    "        self.movie=\"Avathar(Cinemax)\"\n",
    "        self.Tickets=120\n",
    "        self.Price=520\n",
    "        self.Review=\"MASTERPIECE\"\n",
    "        self.Dis=120\n",
    "    def Rev(self):\n",
    "        print(f\"AVATHAR Review: {self.Review}\")\n",
    "@Single\n",
    "class Love_Today(Movie):\n",
    "    def __init__(self):\n",
    "        self.movie=\"LoveToday\"\n",
    "        self.Tickets=200\n",
    "        self.Price=100\n",
    "        self.Dis=20\n",
    "        self.Review=\"BLACKBUSTER\"\n",
    "    def Rev(self):\n",
    "        print(f\"LOVETODAY Review: {self.Review}\")\n",
    "#This Function Represents the Reviews of the All the movies\n",
    "def Review():\n",
    "    obj=Dhamaka()\n",
    "    obj2=Avathar()\n",
    "    obj3=Love_Today()\n",
    "    obj.Rev()\n",
    "    obj2.Rev()\n",
    "    obj3.Rev()\n",
    "\n",
    "#This Function is Used to booking Process\n",
    "\n",
    "def Book():\n",
    "    m=int(input(\"Select Movie 1.Dhamaka , 2.Avathar and 3.LoveToday :\" ))\n",
    "    movie1=1\n",
    "    movie2=2\n",
    "    movie3=3\n",
    "    if movie1==m:\n",
    "        obj1=Dhamaka()\n",
    "        obj1.Bookings()\n",
    "    elif movie2==m:\n",
    "        obj=Avathar()\n",
    "        obj.Bookings()\n",
    "    elif movie3==m:\n",
    "        obj=Love_Today()\n",
    "        obj.Bookings()\n",
    "    else:\n",
    "        print('Only These movies are here Avathar,Dhamaka,LoveToday (Movie Was Removed, Select Above Movies Please)')\n",
    "        \n",
    "#These Below lines are used for selecting Booking or Review\n",
    "c=int(input(\"PLEASE SELECT THESE OPTIONS 1)Review,2)Book: \"))\n",
    "if c==1:\n",
    "    Review()\n",
    "    b=input(\"IF U WANT TICKETS,TYPE B, ELSE C: \")\n",
    "    if b==\"B\":\n",
    "        Book()\n",
    "    else:\n",
    "        print(\"Thank u, Come Again\")\n",
    "elif c==2:\n",
    "    Book()\n",
    "else:\n",
    "    print(\"Thank u\")\n"
   ]
  },
  {
   "cell_type": "code",
   "execution_count": null,
   "id": "3b04ef6b-eab1-4871-8612-7a4e49576741",
   "metadata": {},
   "outputs": [],
   "source": []
  }
 ],
 "metadata": {
  "kernelspec": {
   "display_name": "Python 3 (ipykernel)",
   "language": "python",
   "name": "python3"
  },
  "language_info": {
   "codemirror_mode": {
    "name": "ipython",
    "version": 3
   },
   "file_extension": ".py",
   "mimetype": "text/x-python",
   "name": "python",
   "nbconvert_exporter": "python",
   "pygments_lexer": "ipython3",
   "version": "3.9.13"
  }
 },
 "nbformat": 4,
 "nbformat_minor": 5
}
